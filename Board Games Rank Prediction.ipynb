{
 "cells": [
  {
   "cell_type": "markdown",
   "id": "00cf411f",
   "metadata": {},
   "source": [
    "# Board Games Rank Prediction"
   ]
  },
  {
   "cell_type": "markdown",
   "id": "9637e23d",
   "metadata": {},
   "source": [
    "# Project description\n",
    "Aim of this project is to predict what will be the rank of a board game with given attributes."
   ]
  },
  {
   "cell_type": "markdown",
   "id": "a4e7b7b2",
   "metadata": {},
   "source": [
    "# Libraries and dependencies"
   ]
  },
  {
   "cell_type": "code",
   "execution_count": 1,
   "id": "f0a1ee8d",
   "metadata": {
    "ExecuteTime": {
     "end_time": "2024-05-16T17:50:05.851720Z",
     "start_time": "2024-05-16T17:50:04.286891Z"
    }
   },
   "outputs": [],
   "source": [
    "import pandas as pd\n",
    "import numpy as np\n",
    "import matplotlib.pyplot as plt\n",
    "import seaborn as sns\n",
    "import pickle\n",
    "from sklearn.model_selection import train_test_split, GridSearchCV\n",
    "from sklearn.preprocessing import StandardScaler\n",
    "from sklearn.linear_model import LinearRegression, LogisticRegression\n",
    "from sklearn.tree import DecisionTreeRegressor\n",
    "from sklearn.svm import SVR\n",
    "from sklearn.ensemble import RandomForestRegressor\n",
    "from sklearn.metrics import mean_squared_error, r2_score"
   ]
  },
  {
   "cell_type": "markdown",
   "id": "3a3f1289",
   "metadata": {},
   "source": [
    "# Dataset\n",
    "Original dataset comes from [Kaggle](https://www.kaggle.com/datasets/joebeachcapital/board-games).\n",
    "Dataset used in the project consists of two merged files: \n",
    "- File *details* containing basic information about board games available on the site,\n",
    "- File *ratings* containing games' ratings\n",
    "\n",
    "Data has been gathered on Feb 2024."
   ]
  },
  {
   "cell_type": "code",
   "execution_count": 2,
   "id": "be1fd9f1",
   "metadata": {
    "ExecuteTime": {
     "end_time": "2024-05-16T17:50:06.313270Z",
     "start_time": "2024-05-16T17:50:05.857716Z"
    }
   },
   "outputs": [],
   "source": [
    "df_details = pd.read_csv(\"Data/details.csv\", \n",
    "                         index_col=\"id\"\n",
    "                        )\n",
    "df_ratings = pd.read_csv(\"Data/ratings.csv\", \n",
    "                        index_col=\"id\",\n",
    "                         usecols=[\"id\", \"year\", \"rank\", \"average\", \"bayes_average\", \"users_rated\"]\n",
    "                        )\n",
    "df = pd.merge(df_details, df_ratings, how=\"left\", on=\"id\")"
   ]
  },
  {
   "cell_type": "code",
   "execution_count": 3,
   "id": "79e52733",
   "metadata": {
    "ExecuteTime": {
     "end_time": "2024-05-16T17:50:06.344522Z",
     "start_time": "2024-05-16T17:50:06.317268Z"
    }
   },
   "outputs": [
    {
     "data": {
      "text/html": [
       "<div>\n",
       "<style scoped>\n",
       "    .dataframe tbody tr th:only-of-type {\n",
       "        vertical-align: middle;\n",
       "    }\n",
       "\n",
       "    .dataframe tbody tr th {\n",
       "        vertical-align: top;\n",
       "    }\n",
       "\n",
       "    .dataframe thead th {\n",
       "        text-align: right;\n",
       "    }\n",
       "</style>\n",
       "<table border=\"1\" class=\"dataframe\">\n",
       "  <thead>\n",
       "    <tr style=\"text-align: right;\">\n",
       "      <th></th>\n",
       "      <th>num</th>\n",
       "      <th>primary</th>\n",
       "      <th>description</th>\n",
       "      <th>yearpublished</th>\n",
       "      <th>minplayers</th>\n",
       "      <th>maxplayers</th>\n",
       "      <th>playingtime</th>\n",
       "      <th>minplaytime</th>\n",
       "      <th>maxplaytime</th>\n",
       "      <th>minage</th>\n",
       "      <th>...</th>\n",
       "      <th>boardgamepublisher</th>\n",
       "      <th>owned</th>\n",
       "      <th>trading</th>\n",
       "      <th>wanting</th>\n",
       "      <th>wishing</th>\n",
       "      <th>year</th>\n",
       "      <th>rank</th>\n",
       "      <th>average</th>\n",
       "      <th>bayes_average</th>\n",
       "      <th>users_rated</th>\n",
       "    </tr>\n",
       "    <tr>\n",
       "      <th>id</th>\n",
       "      <th></th>\n",
       "      <th></th>\n",
       "      <th></th>\n",
       "      <th></th>\n",
       "      <th></th>\n",
       "      <th></th>\n",
       "      <th></th>\n",
       "      <th></th>\n",
       "      <th></th>\n",
       "      <th></th>\n",
       "      <th></th>\n",
       "      <th></th>\n",
       "      <th></th>\n",
       "      <th></th>\n",
       "      <th></th>\n",
       "      <th></th>\n",
       "      <th></th>\n",
       "      <th></th>\n",
       "      <th></th>\n",
       "      <th></th>\n",
       "      <th></th>\n",
       "    </tr>\n",
       "  </thead>\n",
       "  <tbody>\n",
       "    <tr>\n",
       "      <th>30549</th>\n",
       "      <td>0</td>\n",
       "      <td>Pandemic</td>\n",
       "      <td>In Pandemic, several virulent diseases have br...</td>\n",
       "      <td>2008</td>\n",
       "      <td>2</td>\n",
       "      <td>4</td>\n",
       "      <td>45</td>\n",
       "      <td>45</td>\n",
       "      <td>45</td>\n",
       "      <td>8</td>\n",
       "      <td>...</td>\n",
       "      <td>['Z-Man Games', 'Albi', 'Asmodee', 'Asmodee It...</td>\n",
       "      <td>168364</td>\n",
       "      <td>2508</td>\n",
       "      <td>625</td>\n",
       "      <td>9344</td>\n",
       "      <td>2008</td>\n",
       "      <td>106</td>\n",
       "      <td>7.59</td>\n",
       "      <td>7.487</td>\n",
       "      <td>108975</td>\n",
       "    </tr>\n",
       "    <tr>\n",
       "      <th>822</th>\n",
       "      <td>1</td>\n",
       "      <td>Carcassonne</td>\n",
       "      <td>Carcassonne is a tile-placement game in which ...</td>\n",
       "      <td>2000</td>\n",
       "      <td>2</td>\n",
       "      <td>5</td>\n",
       "      <td>45</td>\n",
       "      <td>30</td>\n",
       "      <td>45</td>\n",
       "      <td>7</td>\n",
       "      <td>...</td>\n",
       "      <td>['Hans im Glück', '999 Games', 'Albi', 'Bard C...</td>\n",
       "      <td>161299</td>\n",
       "      <td>1716</td>\n",
       "      <td>582</td>\n",
       "      <td>7383</td>\n",
       "      <td>2000</td>\n",
       "      <td>190</td>\n",
       "      <td>7.42</td>\n",
       "      <td>7.309</td>\n",
       "      <td>108738</td>\n",
       "    </tr>\n",
       "    <tr>\n",
       "      <th>13</th>\n",
       "      <td>2</td>\n",
       "      <td>Catan</td>\n",
       "      <td>In CATAN (formerly The Settlers of Catan), pla...</td>\n",
       "      <td>1995</td>\n",
       "      <td>3</td>\n",
       "      <td>4</td>\n",
       "      <td>120</td>\n",
       "      <td>60</td>\n",
       "      <td>120</td>\n",
       "      <td>10</td>\n",
       "      <td>...</td>\n",
       "      <td>['KOSMOS', '999 Games', 'Albi', 'Asmodee', 'As...</td>\n",
       "      <td>167733</td>\n",
       "      <td>2018</td>\n",
       "      <td>485</td>\n",
       "      <td>5890</td>\n",
       "      <td>1995</td>\n",
       "      <td>429</td>\n",
       "      <td>7.14</td>\n",
       "      <td>6.970</td>\n",
       "      <td>108024</td>\n",
       "    </tr>\n",
       "    <tr>\n",
       "      <th>68448</th>\n",
       "      <td>3</td>\n",
       "      <td>7 Wonders</td>\n",
       "      <td>You are the leader of one of the 7 great citie...</td>\n",
       "      <td>2010</td>\n",
       "      <td>2</td>\n",
       "      <td>7</td>\n",
       "      <td>30</td>\n",
       "      <td>30</td>\n",
       "      <td>30</td>\n",
       "      <td>10</td>\n",
       "      <td>...</td>\n",
       "      <td>['Repos Production', 'ADC Blackfire Entertainm...</td>\n",
       "      <td>120466</td>\n",
       "      <td>1567</td>\n",
       "      <td>1010</td>\n",
       "      <td>12105</td>\n",
       "      <td>2010</td>\n",
       "      <td>73</td>\n",
       "      <td>7.74</td>\n",
       "      <td>7.634</td>\n",
       "      <td>89982</td>\n",
       "    </tr>\n",
       "    <tr>\n",
       "      <th>36218</th>\n",
       "      <td>4</td>\n",
       "      <td>Dominion</td>\n",
       "      <td>&amp;quot;You are a monarch, like your parents bef...</td>\n",
       "      <td>2008</td>\n",
       "      <td>2</td>\n",
       "      <td>4</td>\n",
       "      <td>30</td>\n",
       "      <td>30</td>\n",
       "      <td>30</td>\n",
       "      <td>13</td>\n",
       "      <td>...</td>\n",
       "      <td>['Rio Grande Games', '999 Games', 'Albi', 'Bar...</td>\n",
       "      <td>106956</td>\n",
       "      <td>2009</td>\n",
       "      <td>655</td>\n",
       "      <td>8621</td>\n",
       "      <td>2008</td>\n",
       "      <td>104</td>\n",
       "      <td>7.61</td>\n",
       "      <td>7.499</td>\n",
       "      <td>81561</td>\n",
       "    </tr>\n",
       "  </tbody>\n",
       "</table>\n",
       "<p>5 rows × 27 columns</p>\n",
       "</div>"
      ],
      "text/plain": [
       "       num      primary                                        description  \\\n",
       "id                                                                           \n",
       "30549    0     Pandemic  In Pandemic, several virulent diseases have br...   \n",
       "822      1  Carcassonne  Carcassonne is a tile-placement game in which ...   \n",
       "13       2        Catan  In CATAN (formerly The Settlers of Catan), pla...   \n",
       "68448    3    7 Wonders  You are the leader of one of the 7 great citie...   \n",
       "36218    4     Dominion  &quot;You are a monarch, like your parents bef...   \n",
       "\n",
       "       yearpublished  minplayers  maxplayers  playingtime  minplaytime  \\\n",
       "id                                                                       \n",
       "30549           2008           2           4           45           45   \n",
       "822             2000           2           5           45           30   \n",
       "13              1995           3           4          120           60   \n",
       "68448           2010           2           7           30           30   \n",
       "36218           2008           2           4           30           30   \n",
       "\n",
       "       maxplaytime  minage  ...  \\\n",
       "id                          ...   \n",
       "30549           45       8  ...   \n",
       "822             45       7  ...   \n",
       "13             120      10  ...   \n",
       "68448           30      10  ...   \n",
       "36218           30      13  ...   \n",
       "\n",
       "                                      boardgamepublisher   owned trading  \\\n",
       "id                                                                         \n",
       "30549  ['Z-Man Games', 'Albi', 'Asmodee', 'Asmodee It...  168364    2508   \n",
       "822    ['Hans im Glück', '999 Games', 'Albi', 'Bard C...  161299    1716   \n",
       "13     ['KOSMOS', '999 Games', 'Albi', 'Asmodee', 'As...  167733    2018   \n",
       "68448  ['Repos Production', 'ADC Blackfire Entertainm...  120466    1567   \n",
       "36218  ['Rio Grande Games', '999 Games', 'Albi', 'Bar...  106956    2009   \n",
       "\n",
       "      wanting wishing  year rank average  bayes_average  users_rated  \n",
       "id                                                                    \n",
       "30549     625    9344  2008  106    7.59          7.487       108975  \n",
       "822       582    7383  2000  190    7.42          7.309       108738  \n",
       "13        485    5890  1995  429    7.14          6.970       108024  \n",
       "68448    1010   12105  2010   73    7.74          7.634        89982  \n",
       "36218     655    8621  2008  104    7.61          7.499        81561  \n",
       "\n",
       "[5 rows x 27 columns]"
      ]
     },
     "execution_count": 3,
     "metadata": {},
     "output_type": "execute_result"
    }
   ],
   "source": [
    "df.head()"
   ]
  },
  {
   "cell_type": "code",
   "execution_count": 4,
   "id": "8c0836c1",
   "metadata": {
    "ExecuteTime": {
     "end_time": "2024-05-16T17:50:06.360245Z",
     "start_time": "2024-05-16T17:50:06.346488Z"
    }
   },
   "outputs": [
    {
     "data": {
      "text/plain": [
       "(21631, 27)"
      ]
     },
     "execution_count": 4,
     "metadata": {},
     "output_type": "execute_result"
    }
   ],
   "source": [
    "df.shape"
   ]
  },
  {
   "cell_type": "code",
   "execution_count": 5,
   "id": "1346079c",
   "metadata": {
    "ExecuteTime": {
     "end_time": "2024-05-16T17:50:06.422951Z",
     "start_time": "2024-05-16T17:50:06.364241Z"
    }
   },
   "outputs": [
    {
     "data": {
      "text/html": [
       "<div>\n",
       "<style scoped>\n",
       "    .dataframe tbody tr th:only-of-type {\n",
       "        vertical-align: middle;\n",
       "    }\n",
       "\n",
       "    .dataframe tbody tr th {\n",
       "        vertical-align: top;\n",
       "    }\n",
       "\n",
       "    .dataframe thead th {\n",
       "        text-align: right;\n",
       "    }\n",
       "</style>\n",
       "<table border=\"1\" class=\"dataframe\">\n",
       "  <thead>\n",
       "    <tr style=\"text-align: right;\">\n",
       "      <th></th>\n",
       "      <th>num</th>\n",
       "      <th>yearpublished</th>\n",
       "      <th>minplayers</th>\n",
       "      <th>maxplayers</th>\n",
       "      <th>playingtime</th>\n",
       "      <th>minplaytime</th>\n",
       "      <th>maxplaytime</th>\n",
       "      <th>minage</th>\n",
       "      <th>owned</th>\n",
       "      <th>trading</th>\n",
       "      <th>wanting</th>\n",
       "      <th>wishing</th>\n",
       "      <th>year</th>\n",
       "      <th>rank</th>\n",
       "      <th>average</th>\n",
       "      <th>bayes_average</th>\n",
       "      <th>users_rated</th>\n",
       "    </tr>\n",
       "  </thead>\n",
       "  <tbody>\n",
       "    <tr>\n",
       "      <th>count</th>\n",
       "      <td>21631.000000</td>\n",
       "      <td>21631.000000</td>\n",
       "      <td>21631.000000</td>\n",
       "      <td>21631.000000</td>\n",
       "      <td>21631.000000</td>\n",
       "      <td>21631.000000</td>\n",
       "      <td>21631.000000</td>\n",
       "      <td>21631.000000</td>\n",
       "      <td>21631.000000</td>\n",
       "      <td>21631.000000</td>\n",
       "      <td>21631.000000</td>\n",
       "      <td>21631.000000</td>\n",
       "      <td>21631.000000</td>\n",
       "      <td>21631.000000</td>\n",
       "      <td>21631.000000</td>\n",
       "      <td>21631.000000</td>\n",
       "      <td>21631.000000</td>\n",
       "    </tr>\n",
       "    <tr>\n",
       "      <th>mean</th>\n",
       "      <td>10815.000000</td>\n",
       "      <td>1986.094910</td>\n",
       "      <td>2.007027</td>\n",
       "      <td>5.709491</td>\n",
       "      <td>90.509177</td>\n",
       "      <td>63.647774</td>\n",
       "      <td>90.509177</td>\n",
       "      <td>9.611391</td>\n",
       "      <td>1487.924553</td>\n",
       "      <td>43.585965</td>\n",
       "      <td>42.030373</td>\n",
       "      <td>233.655587</td>\n",
       "      <td>1988.101290</td>\n",
       "      <td>10879.522352</td>\n",
       "      <td>6.417249</td>\n",
       "      <td>5.683664</td>\n",
       "      <td>874.548518</td>\n",
       "    </tr>\n",
       "    <tr>\n",
       "      <th>std</th>\n",
       "      <td>6244.476172</td>\n",
       "      <td>210.042496</td>\n",
       "      <td>0.688957</td>\n",
       "      <td>15.102385</td>\n",
       "      <td>534.826511</td>\n",
       "      <td>447.213702</td>\n",
       "      <td>534.826511</td>\n",
       "      <td>3.640562</td>\n",
       "      <td>5395.077773</td>\n",
       "      <td>102.410851</td>\n",
       "      <td>117.940355</td>\n",
       "      <td>800.657809</td>\n",
       "      <td>190.115056</td>\n",
       "      <td>6311.917913</td>\n",
       "      <td>0.929345</td>\n",
       "      <td>0.366096</td>\n",
       "      <td>3695.946026</td>\n",
       "    </tr>\n",
       "    <tr>\n",
       "      <th>min</th>\n",
       "      <td>0.000000</td>\n",
       "      <td>-3500.000000</td>\n",
       "      <td>0.000000</td>\n",
       "      <td>0.000000</td>\n",
       "      <td>0.000000</td>\n",
       "      <td>0.000000</td>\n",
       "      <td>0.000000</td>\n",
       "      <td>0.000000</td>\n",
       "      <td>0.000000</td>\n",
       "      <td>0.000000</td>\n",
       "      <td>0.000000</td>\n",
       "      <td>0.000000</td>\n",
       "      <td>0.000000</td>\n",
       "      <td>1.000000</td>\n",
       "      <td>1.040000</td>\n",
       "      <td>0.000000</td>\n",
       "      <td>30.000000</td>\n",
       "    </tr>\n",
       "    <tr>\n",
       "      <th>25%</th>\n",
       "      <td>5407.500000</td>\n",
       "      <td>2001.000000</td>\n",
       "      <td>2.000000</td>\n",
       "      <td>4.000000</td>\n",
       "      <td>25.000000</td>\n",
       "      <td>20.000000</td>\n",
       "      <td>25.000000</td>\n",
       "      <td>8.000000</td>\n",
       "      <td>150.000000</td>\n",
       "      <td>5.000000</td>\n",
       "      <td>3.000000</td>\n",
       "      <td>14.000000</td>\n",
       "      <td>2001.000000</td>\n",
       "      <td>5408.500000</td>\n",
       "      <td>5.830000</td>\n",
       "      <td>5.510000</td>\n",
       "      <td>57.000000</td>\n",
       "    </tr>\n",
       "    <tr>\n",
       "      <th>50%</th>\n",
       "      <td>10815.000000</td>\n",
       "      <td>2011.000000</td>\n",
       "      <td>2.000000</td>\n",
       "      <td>4.000000</td>\n",
       "      <td>45.000000</td>\n",
       "      <td>30.000000</td>\n",
       "      <td>45.000000</td>\n",
       "      <td>10.000000</td>\n",
       "      <td>322.000000</td>\n",
       "      <td>13.000000</td>\n",
       "      <td>9.000000</td>\n",
       "      <td>39.000000</td>\n",
       "      <td>2011.000000</td>\n",
       "      <td>10839.000000</td>\n",
       "      <td>6.450000</td>\n",
       "      <td>5.546000</td>\n",
       "      <td>124.000000</td>\n",
       "    </tr>\n",
       "    <tr>\n",
       "      <th>75%</th>\n",
       "      <td>16222.500000</td>\n",
       "      <td>2017.000000</td>\n",
       "      <td>2.000000</td>\n",
       "      <td>6.000000</td>\n",
       "      <td>90.000000</td>\n",
       "      <td>60.000000</td>\n",
       "      <td>90.000000</td>\n",
       "      <td>12.000000</td>\n",
       "      <td>903.500000</td>\n",
       "      <td>38.000000</td>\n",
       "      <td>29.000000</td>\n",
       "      <td>131.000000</td>\n",
       "      <td>2017.000000</td>\n",
       "      <td>16356.500000</td>\n",
       "      <td>7.040000</td>\n",
       "      <td>5.678000</td>\n",
       "      <td>397.000000</td>\n",
       "    </tr>\n",
       "    <tr>\n",
       "      <th>max</th>\n",
       "      <td>21630.000000</td>\n",
       "      <td>2023.000000</td>\n",
       "      <td>10.000000</td>\n",
       "      <td>999.000000</td>\n",
       "      <td>60000.000000</td>\n",
       "      <td>60000.000000</td>\n",
       "      <td>60000.000000</td>\n",
       "      <td>25.000000</td>\n",
       "      <td>168364.000000</td>\n",
       "      <td>2508.000000</td>\n",
       "      <td>2011.000000</td>\n",
       "      <td>19325.000000</td>\n",
       "      <td>3500.000000</td>\n",
       "      <td>21831.000000</td>\n",
       "      <td>9.570000</td>\n",
       "      <td>8.511000</td>\n",
       "      <td>108975.000000</td>\n",
       "    </tr>\n",
       "  </tbody>\n",
       "</table>\n",
       "</div>"
      ],
      "text/plain": [
       "                num  yearpublished    minplayers    maxplayers   playingtime  \\\n",
       "count  21631.000000   21631.000000  21631.000000  21631.000000  21631.000000   \n",
       "mean   10815.000000    1986.094910      2.007027      5.709491     90.509177   \n",
       "std     6244.476172     210.042496      0.688957     15.102385    534.826511   \n",
       "min        0.000000   -3500.000000      0.000000      0.000000      0.000000   \n",
       "25%     5407.500000    2001.000000      2.000000      4.000000     25.000000   \n",
       "50%    10815.000000    2011.000000      2.000000      4.000000     45.000000   \n",
       "75%    16222.500000    2017.000000      2.000000      6.000000     90.000000   \n",
       "max    21630.000000    2023.000000     10.000000    999.000000  60000.000000   \n",
       "\n",
       "        minplaytime   maxplaytime        minage          owned       trading  \\\n",
       "count  21631.000000  21631.000000  21631.000000   21631.000000  21631.000000   \n",
       "mean      63.647774     90.509177      9.611391    1487.924553     43.585965   \n",
       "std      447.213702    534.826511      3.640562    5395.077773    102.410851   \n",
       "min        0.000000      0.000000      0.000000       0.000000      0.000000   \n",
       "25%       20.000000     25.000000      8.000000     150.000000      5.000000   \n",
       "50%       30.000000     45.000000     10.000000     322.000000     13.000000   \n",
       "75%       60.000000     90.000000     12.000000     903.500000     38.000000   \n",
       "max    60000.000000  60000.000000     25.000000  168364.000000   2508.000000   \n",
       "\n",
       "            wanting       wishing          year          rank       average  \\\n",
       "count  21631.000000  21631.000000  21631.000000  21631.000000  21631.000000   \n",
       "mean      42.030373    233.655587   1988.101290  10879.522352      6.417249   \n",
       "std      117.940355    800.657809    190.115056   6311.917913      0.929345   \n",
       "min        0.000000      0.000000      0.000000      1.000000      1.040000   \n",
       "25%        3.000000     14.000000   2001.000000   5408.500000      5.830000   \n",
       "50%        9.000000     39.000000   2011.000000  10839.000000      6.450000   \n",
       "75%       29.000000    131.000000   2017.000000  16356.500000      7.040000   \n",
       "max     2011.000000  19325.000000   3500.000000  21831.000000      9.570000   \n",
       "\n",
       "       bayes_average    users_rated  \n",
       "count   21631.000000   21631.000000  \n",
       "mean        5.683664     874.548518  \n",
       "std         0.366096    3695.946026  \n",
       "min         0.000000      30.000000  \n",
       "25%         5.510000      57.000000  \n",
       "50%         5.546000     124.000000  \n",
       "75%         5.678000     397.000000  \n",
       "max         8.511000  108975.000000  "
      ]
     },
     "execution_count": 5,
     "metadata": {},
     "output_type": "execute_result"
    }
   ],
   "source": [
    "df.describe()"
   ]
  },
  {
   "cell_type": "code",
   "execution_count": 6,
   "id": "0d410dfa",
   "metadata": {
    "ExecuteTime": {
     "end_time": "2024-05-16T17:50:06.454332Z",
     "start_time": "2024-05-16T17:50:06.424903Z"
    }
   },
   "outputs": [
    {
     "name": "stdout",
     "output_type": "stream",
     "text": [
      "<class 'pandas.core.frame.DataFrame'>\n",
      "Int64Index: 21631 entries, 30549 to 165946\n",
      "Data columns (total 27 columns):\n",
      " #   Column                   Non-Null Count  Dtype  \n",
      "---  ------                   --------------  -----  \n",
      " 0   num                      21631 non-null  int64  \n",
      " 1   primary                  21631 non-null  object \n",
      " 2   description              21630 non-null  object \n",
      " 3   yearpublished            21631 non-null  int64  \n",
      " 4   minplayers               21631 non-null  int64  \n",
      " 5   maxplayers               21631 non-null  int64  \n",
      " 6   playingtime              21631 non-null  int64  \n",
      " 7   minplaytime              21631 non-null  int64  \n",
      " 8   maxplaytime              21631 non-null  int64  \n",
      " 9   minage                   21631 non-null  int64  \n",
      " 10  boardgamecategory        21348 non-null  object \n",
      " 11  boardgamemechanic        20041 non-null  object \n",
      " 12  boardgamefamily          17870 non-null  object \n",
      " 13  boardgameexpansion       5506 non-null   object \n",
      " 14  boardgameimplementation  4862 non-null   object \n",
      " 15  boardgamedesigner        21035 non-null  object \n",
      " 16  boardgameartist          15724 non-null  object \n",
      " 17  boardgamepublisher       21630 non-null  object \n",
      " 18  owned                    21631 non-null  int64  \n",
      " 19  trading                  21631 non-null  int64  \n",
      " 20  wanting                  21631 non-null  int64  \n",
      " 21  wishing                  21631 non-null  int64  \n",
      " 22  year                     21631 non-null  int64  \n",
      " 23  rank                     21631 non-null  int64  \n",
      " 24  average                  21631 non-null  float64\n",
      " 25  bayes_average            21631 non-null  float64\n",
      " 26  users_rated              21631 non-null  int64  \n",
      "dtypes: float64(2), int64(15), object(10)\n",
      "memory usage: 4.6+ MB\n"
     ]
    }
   ],
   "source": [
    "df.info()"
   ]
  },
  {
   "cell_type": "code",
   "execution_count": 7,
   "id": "70fb2c6a",
   "metadata": {
    "ExecuteTime": {
     "end_time": "2024-05-16T17:50:06.486280Z",
     "start_time": "2024-05-16T17:50:06.458328Z"
    }
   },
   "outputs": [
    {
     "data": {
      "text/plain": [
       "num                            0\n",
       "primary                        0\n",
       "description                    1\n",
       "yearpublished                  0\n",
       "minplayers                     0\n",
       "maxplayers                     0\n",
       "playingtime                    0\n",
       "minplaytime                    0\n",
       "maxplaytime                    0\n",
       "minage                         0\n",
       "boardgamecategory            283\n",
       "boardgamemechanic           1590\n",
       "boardgamefamily             3761\n",
       "boardgameexpansion         16125\n",
       "boardgameimplementation    16769\n",
       "boardgamedesigner            596\n",
       "boardgameartist             5907\n",
       "boardgamepublisher             1\n",
       "owned                          0\n",
       "trading                        0\n",
       "wanting                        0\n",
       "wishing                        0\n",
       "year                           0\n",
       "rank                           0\n",
       "average                        0\n",
       "bayes_average                  0\n",
       "users_rated                    0\n",
       "dtype: int64"
      ]
     },
     "execution_count": 7,
     "metadata": {},
     "output_type": "execute_result"
    }
   ],
   "source": [
    "df.isnull().sum()"
   ]
  },
  {
   "cell_type": "code",
   "execution_count": 8,
   "id": "ca60d85b",
   "metadata": {
    "ExecuteTime": {
     "end_time": "2024-05-16T17:50:06.548482Z",
     "start_time": "2024-05-16T17:50:06.488245Z"
    }
   },
   "outputs": [
    {
     "data": {
      "text/plain": [
       "0"
      ]
     },
     "execution_count": 8,
     "metadata": {},
     "output_type": "execute_result"
    }
   ],
   "source": [
    "df.duplicated().sum()"
   ]
  },
  {
   "cell_type": "markdown",
   "id": "a9206904",
   "metadata": {},
   "source": [
    "Dataset consists **mainly** of numeric columns with non-null values. There are some strings and lists objects as well, which may be null. There are no duplicated rows."
   ]
  },
  {
   "cell_type": "markdown",
   "id": "bbb3d478",
   "metadata": {},
   "source": [
    "# Exploratory Data analysis (EDA)"
   ]
  },
  {
   "cell_type": "markdown",
   "id": "813aae71",
   "metadata": {},
   "source": [
    "## Data cleaning and Preprocessing"
   ]
  },
  {
   "cell_type": "markdown",
   "id": "e8e05162",
   "metadata": {},
   "source": [
    "### Drop unnecessary columns\n",
    "\n",
    "Remove any columns that are not relevant to your analysis. Use .drop() in pandas."
   ]
  },
  {
   "cell_type": "code",
   "execution_count": 9,
   "id": "c19a5486",
   "metadata": {
    "ExecuteTime": {
     "end_time": "2024-05-16T17:50:06.563613Z",
     "start_time": "2024-05-16T17:50:06.550482Z"
    }
   },
   "outputs": [
    {
     "data": {
      "text/plain": [
       "Index(['num', 'primary', 'description', 'yearpublished', 'minplayers',\n",
       "       'maxplayers', 'playingtime', 'minplaytime', 'maxplaytime', 'minage',\n",
       "       'boardgamecategory', 'boardgamemechanic', 'boardgamefamily',\n",
       "       'boardgameexpansion', 'boardgameimplementation', 'boardgamedesigner',\n",
       "       'boardgameartist', 'boardgamepublisher', 'owned', 'trading', 'wanting',\n",
       "       'wishing', 'year', 'rank', 'average', 'bayes_average', 'users_rated'],\n",
       "      dtype='object')"
      ]
     },
     "execution_count": 9,
     "metadata": {},
     "output_type": "execute_result"
    }
   ],
   "source": [
    "df.columns"
   ]
  },
  {
   "cell_type": "code",
   "execution_count": 10,
   "id": "384478d7",
   "metadata": {
    "ExecuteTime": {
     "end_time": "2024-05-16T17:50:06.578756Z",
     "start_time": "2024-05-16T17:50:06.566603Z"
    }
   },
   "outputs": [],
   "source": [
    "df = df.drop([\"num\", \"description\", \"boardgameexpansion\", \"boardgameimplementation\",\n",
    "             \"boardgameartist\", \"boardgamepublisher\", \"year\"], axis=1)"
   ]
  },
  {
   "cell_type": "markdown",
   "id": "44ac0ae1",
   "metadata": {},
   "source": [
    "### Rename columns"
   ]
  },
  {
   "cell_type": "code",
   "execution_count": 11,
   "id": "79468836",
   "metadata": {
    "ExecuteTime": {
     "end_time": "2024-05-16T17:50:06.594742Z",
     "start_time": "2024-05-16T17:50:06.582745Z"
    }
   },
   "outputs": [
    {
     "data": {
      "text/plain": [
       "Index(['name', 'year_published', 'min_players', 'max_players', 'playing_time',\n",
       "       'min_playtime', 'max_playtime', 'min_age', 'game_category',\n",
       "       'game_mechanic', 'game_family', 'game_designer', 'owned', 'trading',\n",
       "       'wanting', 'wishing', 'rank', 'average', 'bayes_average',\n",
       "       'users_rated'],\n",
       "      dtype='object')"
      ]
     },
     "execution_count": 11,
     "metadata": {},
     "output_type": "execute_result"
    }
   ],
   "source": [
    "cols_dict = {\"primary\": \"name\",\n",
    "            \"yearpublished\": \"year_published\",\n",
    "            \"minplayers\": \"min_players\",\n",
    "            \"maxplayers\": \"max_players\",\n",
    "            \"playingtime\": \"playing_time\",\n",
    "            \"minplaytime\": \"min_playtime\",\n",
    "            \"maxplaytime\": \"max_playtime\",\n",
    "            \"minage\": \"min_age\",\n",
    "            \"boardgamecategory\": \"game_category\",\n",
    "            \"boardgamemechanic\": \"game_mechanic\",\n",
    "            \"boardgamefamily\": \"game_family\",\n",
    "            \"boardgamedesigner\": \"game_designer\"\n",
    "            }\n",
    "df = df.rename(cols_dict, axis=1)\n",
    "df.columns"
   ]
  },
  {
   "cell_type": "markdown",
   "id": "bfbe1299",
   "metadata": {},
   "source": [
    "### Reorder columns"
   ]
  },
  {
   "cell_type": "code",
   "execution_count": 12,
   "id": "90de1c22",
   "metadata": {
    "ExecuteTime": {
     "end_time": "2024-05-16T17:50:06.609999Z",
     "start_time": "2024-05-16T17:50:06.596728Z"
    }
   },
   "outputs": [],
   "source": [
    "# List of columns to reorder\n",
    "reordered_columns = [\"rank\", \"name\", \"average\", \"bayes_average\", \"owned\", \"wanting\", \"wishing\", \"users_rated\"]\n",
    "\n",
    "# List of columns that are not being reordered\n",
    "remaining_columns = [col for col in df.columns if col not in reordered_columns]\n",
    "\n",
    "# Concatenate reordered columns with the remaining columns\n",
    "df_reordered = pd.concat([df[reordered_columns], df[remaining_columns]], axis=1)"
   ]
  },
  {
   "cell_type": "code",
   "execution_count": 13,
   "id": "eaea62fb",
   "metadata": {
    "ExecuteTime": {
     "end_time": "2024-05-16T17:50:06.625970Z",
     "start_time": "2024-05-16T17:50:06.611036Z"
    }
   },
   "outputs": [],
   "source": [
    "# Convert pd.NA to empty string\n",
    "df['game_category'].fillna('', inplace=True)"
   ]
  },
  {
   "cell_type": "code",
   "execution_count": 14,
   "id": "739e5592",
   "metadata": {
    "ExecuteTime": {
     "end_time": "2024-05-16T17:50:06.656795Z",
     "start_time": "2024-05-16T17:50:06.626970Z"
    }
   },
   "outputs": [
    {
     "data": {
      "text/html": [
       "<div>\n",
       "<style scoped>\n",
       "    .dataframe tbody tr th:only-of-type {\n",
       "        vertical-align: middle;\n",
       "    }\n",
       "\n",
       "    .dataframe tbody tr th {\n",
       "        vertical-align: top;\n",
       "    }\n",
       "\n",
       "    .dataframe thead th {\n",
       "        text-align: right;\n",
       "    }\n",
       "</style>\n",
       "<table border=\"1\" class=\"dataframe\">\n",
       "  <thead>\n",
       "    <tr style=\"text-align: right;\">\n",
       "      <th></th>\n",
       "      <th>rank</th>\n",
       "      <th>name</th>\n",
       "      <th>average</th>\n",
       "      <th>bayes_average</th>\n",
       "      <th>owned</th>\n",
       "      <th>wanting</th>\n",
       "      <th>wishing</th>\n",
       "      <th>users_rated</th>\n",
       "      <th>year_published</th>\n",
       "      <th>min_players</th>\n",
       "      <th>max_players</th>\n",
       "      <th>playing_time</th>\n",
       "      <th>min_playtime</th>\n",
       "      <th>max_playtime</th>\n",
       "      <th>min_age</th>\n",
       "      <th>game_category</th>\n",
       "      <th>game_mechanic</th>\n",
       "      <th>game_family</th>\n",
       "      <th>game_designer</th>\n",
       "      <th>trading</th>\n",
       "    </tr>\n",
       "    <tr>\n",
       "      <th>id</th>\n",
       "      <th></th>\n",
       "      <th></th>\n",
       "      <th></th>\n",
       "      <th></th>\n",
       "      <th></th>\n",
       "      <th></th>\n",
       "      <th></th>\n",
       "      <th></th>\n",
       "      <th></th>\n",
       "      <th></th>\n",
       "      <th></th>\n",
       "      <th></th>\n",
       "      <th></th>\n",
       "      <th></th>\n",
       "      <th></th>\n",
       "      <th></th>\n",
       "      <th></th>\n",
       "      <th></th>\n",
       "      <th></th>\n",
       "      <th></th>\n",
       "    </tr>\n",
       "  </thead>\n",
       "  <tbody>\n",
       "    <tr>\n",
       "      <th>174430</th>\n",
       "      <td>1</td>\n",
       "      <td>Gloomhaven</td>\n",
       "      <td>8.74</td>\n",
       "      <td>8.511</td>\n",
       "      <td>77758</td>\n",
       "      <td>1346</td>\n",
       "      <td>17658</td>\n",
       "      <td>47827</td>\n",
       "      <td>2017</td>\n",
       "      <td>1</td>\n",
       "      <td>4</td>\n",
       "      <td>120</td>\n",
       "      <td>60</td>\n",
       "      <td>120</td>\n",
       "      <td>14</td>\n",
       "      <td>['Adventure', 'Exploration', 'Fantasy', 'Fight...</td>\n",
       "      <td>['Action Queue', 'Action Retrieval', 'Campaign...</td>\n",
       "      <td>['Category: Dungeon Crawler', 'Components: Min...</td>\n",
       "      <td>['Isaac Childres']</td>\n",
       "      <td>648</td>\n",
       "    </tr>\n",
       "    <tr>\n",
       "      <th>161936</th>\n",
       "      <td>2</td>\n",
       "      <td>Pandemic Legacy: Season 1</td>\n",
       "      <td>8.59</td>\n",
       "      <td>8.442</td>\n",
       "      <td>70830</td>\n",
       "      <td>831</td>\n",
       "      <td>11729</td>\n",
       "      <td>45041</td>\n",
       "      <td>2015</td>\n",
       "      <td>2</td>\n",
       "      <td>4</td>\n",
       "      <td>60</td>\n",
       "      <td>60</td>\n",
       "      <td>60</td>\n",
       "      <td>13</td>\n",
       "      <td>['Environmental', 'Medical']</td>\n",
       "      <td>['Action Points', 'Cooperative Game', 'Hand Ma...</td>\n",
       "      <td>['Components: Map (Global Scale)', 'Components...</td>\n",
       "      <td>['Rob Daviau', 'Matt Leacock']</td>\n",
       "      <td>327</td>\n",
       "    </tr>\n",
       "    <tr>\n",
       "      <th>224517</th>\n",
       "      <td>3</td>\n",
       "      <td>Brass: Birmingham</td>\n",
       "      <td>8.66</td>\n",
       "      <td>8.418</td>\n",
       "      <td>38126</td>\n",
       "      <td>1522</td>\n",
       "      <td>11846</td>\n",
       "      <td>25484</td>\n",
       "      <td>2018</td>\n",
       "      <td>2</td>\n",
       "      <td>4</td>\n",
       "      <td>120</td>\n",
       "      <td>60</td>\n",
       "      <td>120</td>\n",
       "      <td>14</td>\n",
       "      <td>['Economic', 'Industry / Manufacturing', 'Post...</td>\n",
       "      <td>['Hand Management', 'Income', 'Loans', 'Market...</td>\n",
       "      <td>['Cities: Birmingham (England)', 'Country: Eng...</td>\n",
       "      <td>['Gavan Brown', 'Matt Tolman', 'Martin Wallace']</td>\n",
       "      <td>128</td>\n",
       "    </tr>\n",
       "    <tr>\n",
       "      <th>167791</th>\n",
       "      <td>4</td>\n",
       "      <td>Terraforming Mars</td>\n",
       "      <td>8.42</td>\n",
       "      <td>8.274</td>\n",
       "      <td>101872</td>\n",
       "      <td>2011</td>\n",
       "      <td>19227</td>\n",
       "      <td>74216</td>\n",
       "      <td>2016</td>\n",
       "      <td>1</td>\n",
       "      <td>5</td>\n",
       "      <td>120</td>\n",
       "      <td>120</td>\n",
       "      <td>120</td>\n",
       "      <td>12</td>\n",
       "      <td>['Economic', 'Environmental', 'Industry / Manu...</td>\n",
       "      <td>['Drafting', 'End Game Bonuses', 'Hand Managem...</td>\n",
       "      <td>['Components: Map (Global Scale)', 'Components...</td>\n",
       "      <td>['Jacob Fryxelius']</td>\n",
       "      <td>538</td>\n",
       "    </tr>\n",
       "    <tr>\n",
       "      <th>233078</th>\n",
       "      <td>5</td>\n",
       "      <td>Twilight Imperium: Fourth Edition</td>\n",
       "      <td>8.68</td>\n",
       "      <td>8.262</td>\n",
       "      <td>20542</td>\n",
       "      <td>986</td>\n",
       "      <td>8984</td>\n",
       "      <td>16025</td>\n",
       "      <td>2017</td>\n",
       "      <td>3</td>\n",
       "      <td>6</td>\n",
       "      <td>480</td>\n",
       "      <td>240</td>\n",
       "      <td>480</td>\n",
       "      <td>14</td>\n",
       "      <td>['Civilization', 'Economic', 'Exploration', 'N...</td>\n",
       "      <td>['Action Drafting', 'Area Majority / Influence...</td>\n",
       "      <td>['Components: Hexagonal Tiles', 'Components: M...</td>\n",
       "      <td>['Dane Beltrami', 'Corey Konieczka', 'Christia...</td>\n",
       "      <td>120</td>\n",
       "    </tr>\n",
       "  </tbody>\n",
       "</table>\n",
       "</div>"
      ],
      "text/plain": [
       "        rank                               name  average  bayes_average  \\\n",
       "id                                                                        \n",
       "174430     1                         Gloomhaven     8.74          8.511   \n",
       "161936     2          Pandemic Legacy: Season 1     8.59          8.442   \n",
       "224517     3                  Brass: Birmingham     8.66          8.418   \n",
       "167791     4                  Terraforming Mars     8.42          8.274   \n",
       "233078     5  Twilight Imperium: Fourth Edition     8.68          8.262   \n",
       "\n",
       "         owned  wanting  wishing  users_rated  year_published  min_players  \\\n",
       "id                                                                           \n",
       "174430   77758     1346    17658        47827            2017            1   \n",
       "161936   70830      831    11729        45041            2015            2   \n",
       "224517   38126     1522    11846        25484            2018            2   \n",
       "167791  101872     2011    19227        74216            2016            1   \n",
       "233078   20542      986     8984        16025            2017            3   \n",
       "\n",
       "        max_players  playing_time  min_playtime  max_playtime  min_age  \\\n",
       "id                                                                       \n",
       "174430            4           120            60           120       14   \n",
       "161936            4            60            60            60       13   \n",
       "224517            4           120            60           120       14   \n",
       "167791            5           120           120           120       12   \n",
       "233078            6           480           240           480       14   \n",
       "\n",
       "                                            game_category  \\\n",
       "id                                                          \n",
       "174430  ['Adventure', 'Exploration', 'Fantasy', 'Fight...   \n",
       "161936                       ['Environmental', 'Medical']   \n",
       "224517  ['Economic', 'Industry / Manufacturing', 'Post...   \n",
       "167791  ['Economic', 'Environmental', 'Industry / Manu...   \n",
       "233078  ['Civilization', 'Economic', 'Exploration', 'N...   \n",
       "\n",
       "                                            game_mechanic  \\\n",
       "id                                                          \n",
       "174430  ['Action Queue', 'Action Retrieval', 'Campaign...   \n",
       "161936  ['Action Points', 'Cooperative Game', 'Hand Ma...   \n",
       "224517  ['Hand Management', 'Income', 'Loans', 'Market...   \n",
       "167791  ['Drafting', 'End Game Bonuses', 'Hand Managem...   \n",
       "233078  ['Action Drafting', 'Area Majority / Influence...   \n",
       "\n",
       "                                              game_family  \\\n",
       "id                                                          \n",
       "174430  ['Category: Dungeon Crawler', 'Components: Min...   \n",
       "161936  ['Components: Map (Global Scale)', 'Components...   \n",
       "224517  ['Cities: Birmingham (England)', 'Country: Eng...   \n",
       "167791  ['Components: Map (Global Scale)', 'Components...   \n",
       "233078  ['Components: Hexagonal Tiles', 'Components: M...   \n",
       "\n",
       "                                            game_designer  trading  \n",
       "id                                                                  \n",
       "174430                                 ['Isaac Childres']      648  \n",
       "161936                     ['Rob Daviau', 'Matt Leacock']      327  \n",
       "224517   ['Gavan Brown', 'Matt Tolman', 'Martin Wallace']      128  \n",
       "167791                                ['Jacob Fryxelius']      538  \n",
       "233078  ['Dane Beltrami', 'Corey Konieczka', 'Christia...      120  "
      ]
     },
     "execution_count": 14,
     "metadata": {},
     "output_type": "execute_result"
    }
   ],
   "source": [
    "df = df_reordered.sort_values(\"rank\")\n",
    "df.head()"
   ]
  },
  {
   "cell_type": "markdown",
   "id": "3178f0ca",
   "metadata": {},
   "source": [
    "## Data Visualization\n",
    "\n",
    "Now we can visualize the data to gain insights:\n",
    "\n",
    "    .hist() for histograms\n",
    "    .plot() for line plots, scatter plots, etc.\n",
    "    .value_counts() to see counts of categorical variables\n",
    "    .describe() for summary statistics"
   ]
  },
  {
   "cell_type": "markdown",
   "id": "58391579",
   "metadata": {},
   "source": [
    "### Histograms\n",
    "\n",
    "Use .hist() in pandas to get a visual representation of the distribution of a numeric variable. This can reveal outliers, skewness, and other patterns."
   ]
  },
  {
   "cell_type": "markdown",
   "id": "4800cdbc",
   "metadata": {},
   "source": [
    "### Box plots\n",
    "\n",
    "Use .boxplot() in pandas to visualize the distribution through quartiles, extremes, and outliers for a numeric variable."
   ]
  },
  {
   "cell_type": "markdown",
   "id": "a46046b7",
   "metadata": {},
   "source": [
    "### Scatter plots\n",
    "\n",
    "Use .plot(kind=’scatter’) to visualize the relationship between two numeric variables. This can reveal correlations, clusters, and outliers."
   ]
  },
  {
   "cell_type": "markdown",
   "id": "b073413a",
   "metadata": {},
   "source": [
    "### Bar plots\n",
    "\n",
    "Use .plot(kind=’bar’) to compare categorical variables or the counts of categorical variables. This gives a quick visual summary."
   ]
  },
  {
   "cell_type": "markdown",
   "id": "3ceede40",
   "metadata": {},
   "source": [
    "### Line plots\n",
    "\n",
    "Use .plot(kind=’line’) to visualize trends over time for time series data."
   ]
  },
  {
   "cell_type": "markdown",
   "id": "490876c2",
   "metadata": {},
   "source": [
    "### Pair plots\n",
    "\n",
    "Use seaborn pairplot() to visualize the relationships between all variables in a dataset."
   ]
  },
  {
   "cell_type": "markdown",
   "id": "43736d2d",
   "metadata": {},
   "source": [
    "### Correlation heatmaps\n",
    "\n",
    "Use a seaborn heatmap() to visualize the correlation between all numeric variables."
   ]
  },
  {
   "cell_type": "code",
   "execution_count": 15,
   "id": "3101ae7c",
   "metadata": {
    "ExecuteTime": {
     "end_time": "2024-05-16T17:50:11.810589Z",
     "start_time": "2024-05-16T17:50:11.213258Z"
    }
   },
   "outputs": [
    {
     "data": {
      "image/png": "[encoded data removed]",
      "text/plain": [
       "<Figure size 1152x720 with 2 Axes>"
      ]
     },
     "metadata": {
      "needs_background": "light"
     },
     "output_type": "display_data"
    }
   ],
   "source": [
    "corr = df.corr()\n",
    "matrix = np.triu(corr)\n",
    "plt.figure(figsize=(16,10))\n",
    "\n",
    "# using the upper triangle matrix as mask \n",
    "sns.heatmap(corr, annot=True, mask=matrix, cmap=\"coolwarm\")\n",
    "plt.show()"
   ]
  },
  {
   "cell_type": "markdown",
   "id": "7d01f0af",
   "metadata": {},
   "source": [
    "Correlation between rank and other variables is nnegative. That means: the higher numbers get, the lower rank is - meaning that game should be considered as \"good\"."
   ]
  },
  {
   "cell_type": "markdown",
   "id": "9a9a9d15",
   "metadata": {},
   "source": [
    "### Descriptive statistics"
   ]
  },
  {
   "cell_type": "code",
   "execution_count": 67,
   "id": "789ad597",
   "metadata": {
    "ExecuteTime": {
     "end_time": "2024-05-16T20:18:29.731612Z",
     "start_time": "2024-05-16T20:18:29.649745Z"
    }
   },
   "outputs": [
    {
     "data": {
      "text/html": [
       "<div>\n",
       "<style scoped>\n",
       "    .dataframe tbody tr th:only-of-type {\n",
       "        vertical-align: middle;\n",
       "    }\n",
       "\n",
       "    .dataframe tbody tr th {\n",
       "        vertical-align: top;\n",
       "    }\n",
       "\n",
       "    .dataframe thead th {\n",
       "        text-align: right;\n",
       "    }\n",
       "</style>\n",
       "<table border=\"1\" class=\"dataframe\">\n",
       "  <thead>\n",
       "    <tr style=\"text-align: right;\">\n",
       "      <th></th>\n",
       "      <th>rank</th>\n",
       "      <th>average</th>\n",
       "      <th>bayes_average</th>\n",
       "      <th>owned</th>\n",
       "      <th>wanting</th>\n",
       "      <th>wishing</th>\n",
       "      <th>users_rated</th>\n",
       "      <th>year_published</th>\n",
       "      <th>min_players</th>\n",
       "      <th>max_players</th>\n",
       "      <th>playing_time</th>\n",
       "      <th>min_playtime</th>\n",
       "      <th>max_playtime</th>\n",
       "      <th>min_age</th>\n",
       "      <th>trading</th>\n",
       "    </tr>\n",
       "  </thead>\n",
       "  <tbody>\n",
       "    <tr>\n",
       "      <th>count</th>\n",
       "      <td>21631.000000</td>\n",
       "      <td>21631.000000</td>\n",
       "      <td>21631.000000</td>\n",
       "      <td>21631.000000</td>\n",
       "      <td>21631.000000</td>\n",
       "      <td>21631.000000</td>\n",
       "      <td>21631.000000</td>\n",
       "      <td>21631.000000</td>\n",
       "      <td>21631.000000</td>\n",
       "      <td>21631.000000</td>\n",
       "      <td>21631.000000</td>\n",
       "      <td>21631.000000</td>\n",
       "      <td>21631.000000</td>\n",
       "      <td>21631.000000</td>\n",
       "      <td>21631.000000</td>\n",
       "    </tr>\n",
       "    <tr>\n",
       "      <th>mean</th>\n",
       "      <td>10879.522352</td>\n",
       "      <td>6.417249</td>\n",
       "      <td>5.683664</td>\n",
       "      <td>1487.924553</td>\n",
       "      <td>42.030373</td>\n",
       "      <td>233.655587</td>\n",
       "      <td>874.548518</td>\n",
       "      <td>1986.094910</td>\n",
       "      <td>2.007027</td>\n",
       "      <td>5.709491</td>\n",
       "      <td>90.509177</td>\n",
       "      <td>63.647774</td>\n",
       "      <td>90.509177</td>\n",
       "      <td>9.611391</td>\n",
       "      <td>43.585965</td>\n",
       "    </tr>\n",
       "    <tr>\n",
       "      <th>std</th>\n",
       "      <td>6311.917913</td>\n",
       "      <td>0.929345</td>\n",
       "      <td>0.366096</td>\n",
       "      <td>5395.077773</td>\n",
       "      <td>117.940355</td>\n",
       "      <td>800.657809</td>\n",
       "      <td>3695.946026</td>\n",
       "      <td>210.042496</td>\n",
       "      <td>0.688957</td>\n",
       "      <td>15.102385</td>\n",
       "      <td>534.826511</td>\n",
       "      <td>447.213702</td>\n",
       "      <td>534.826511</td>\n",
       "      <td>3.640562</td>\n",
       "      <td>102.410851</td>\n",
       "    </tr>\n",
       "    <tr>\n",
       "      <th>min</th>\n",
       "      <td>1.000000</td>\n",
       "      <td>1.040000</td>\n",
       "      <td>0.000000</td>\n",
       "      <td>0.000000</td>\n",
       "      <td>0.000000</td>\n",
       "      <td>0.000000</td>\n",
       "      <td>30.000000</td>\n",
       "      <td>-3500.000000</td>\n",
       "      <td>0.000000</td>\n",
       "      <td>0.000000</td>\n",
       "      <td>0.000000</td>\n",
       "      <td>0.000000</td>\n",
       "      <td>0.000000</td>\n",
       "      <td>0.000000</td>\n",
       "      <td>0.000000</td>\n",
       "    </tr>\n",
       "    <tr>\n",
       "      <th>25%</th>\n",
       "      <td>5408.500000</td>\n",
       "      <td>5.830000</td>\n",
       "      <td>5.510000</td>\n",
       "      <td>150.000000</td>\n",
       "      <td>3.000000</td>\n",
       "      <td>14.000000</td>\n",
       "      <td>57.000000</td>\n",
       "      <td>2001.000000</td>\n",
       "      <td>2.000000</td>\n",
       "      <td>4.000000</td>\n",
       "      <td>25.000000</td>\n",
       "      <td>20.000000</td>\n",
       "      <td>25.000000</td>\n",
       "      <td>8.000000</td>\n",
       "      <td>5.000000</td>\n",
       "    </tr>\n",
       "    <tr>\n",
       "      <th>50%</th>\n",
       "      <td>10839.000000</td>\n",
       "      <td>6.450000</td>\n",
       "      <td>5.546000</td>\n",
       "      <td>322.000000</td>\n",
       "      <td>9.000000</td>\n",
       "      <td>39.000000</td>\n",
       "      <td>124.000000</td>\n",
       "      <td>2011.000000</td>\n",
       "      <td>2.000000</td>\n",
       "      <td>4.000000</td>\n",
       "      <td>45.000000</td>\n",
       "      <td>30.000000</td>\n",
       "      <td>45.000000</td>\n",
       "      <td>10.000000</td>\n",
       "      <td>13.000000</td>\n",
       "    </tr>\n",
       "    <tr>\n",
       "      <th>75%</th>\n",
       "      <td>16356.500000</td>\n",
       "      <td>7.040000</td>\n",
       "      <td>5.678000</td>\n",
       "      <td>903.500000</td>\n",
       "      <td>29.000000</td>\n",
       "      <td>131.000000</td>\n",
       "      <td>397.000000</td>\n",
       "      <td>2017.000000</td>\n",
       "      <td>2.000000</td>\n",
       "      <td>6.000000</td>\n",
       "      <td>90.000000</td>\n",
       "      <td>60.000000</td>\n",
       "      <td>90.000000</td>\n",
       "      <td>12.000000</td>\n",
       "      <td>38.000000</td>\n",
       "    </tr>\n",
       "    <tr>\n",
       "      <th>max</th>\n",
       "      <td>21831.000000</td>\n",
       "      <td>9.570000</td>\n",
       "      <td>8.511000</td>\n",
       "      <td>168364.000000</td>\n",
       "      <td>2011.000000</td>\n",
       "      <td>19325.000000</td>\n",
       "      <td>108975.000000</td>\n",
       "      <td>2023.000000</td>\n",
       "      <td>10.000000</td>\n",
       "      <td>999.000000</td>\n",
       "      <td>60000.000000</td>\n",
       "      <td>60000.000000</td>\n",
       "      <td>60000.000000</td>\n",
       "      <td>25.000000</td>\n",
       "      <td>2508.000000</td>\n",
       "    </tr>\n",
       "  </tbody>\n",
       "</table>\n",
       "</div>"
      ],
      "text/plain": [
       "               rank       average  bayes_average          owned       wanting  \\\n",
       "count  21631.000000  21631.000000   21631.000000   21631.000000  21631.000000   \n",
       "mean   10879.522352      6.417249       5.683664    1487.924553     42.030373   \n",
       "std     6311.917913      0.929345       0.366096    5395.077773    117.940355   \n",
       "min        1.000000      1.040000       0.000000       0.000000      0.000000   \n",
       "25%     5408.500000      5.830000       5.510000     150.000000      3.000000   \n",
       "50%    10839.000000      6.450000       5.546000     322.000000      9.000000   \n",
       "75%    16356.500000      7.040000       5.678000     903.500000     29.000000   \n",
       "max    21831.000000      9.570000       8.511000  168364.000000   2011.000000   \n",
       "\n",
       "            wishing    users_rated  year_published   min_players  \\\n",
       "count  21631.000000   21631.000000    21631.000000  21631.000000   \n",
       "mean     233.655587     874.548518     1986.094910      2.007027   \n",
       "std      800.657809    3695.946026      210.042496      0.688957   \n",
       "min        0.000000      30.000000    -3500.000000      0.000000   \n",
       "25%       14.000000      57.000000     2001.000000      2.000000   \n",
       "50%       39.000000     124.000000     2011.000000      2.000000   \n",
       "75%      131.000000     397.000000     2017.000000      2.000000   \n",
       "max    19325.000000  108975.000000     2023.000000     10.000000   \n",
       "\n",
       "        max_players  playing_time  min_playtime  max_playtime       min_age  \\\n",
       "count  21631.000000  21631.000000  21631.000000  21631.000000  21631.000000   \n",
       "mean       5.709491     90.509177     63.647774     90.509177      9.611391   \n",
       "std       15.102385    534.826511    447.213702    534.826511      3.640562   \n",
       "min        0.000000      0.000000      0.000000      0.000000      0.000000   \n",
       "25%        4.000000     25.000000     20.000000     25.000000      8.000000   \n",
       "50%        4.000000     45.000000     30.000000     45.000000     10.000000   \n",
       "75%        6.000000     90.000000     60.000000     90.000000     12.000000   \n",
       "max      999.000000  60000.000000  60000.000000  60000.000000     25.000000   \n",
       "\n",
       "            trading  \n",
       "count  21631.000000  \n",
       "mean      43.585965  \n",
       "std      102.410851  \n",
       "min        0.000000  \n",
       "25%        5.000000  \n",
       "50%       13.000000  \n",
       "75%       38.000000  \n",
       "max     2508.000000  "
      ]
     },
     "execution_count": 67,
     "metadata": {},
     "output_type": "execute_result"
    }
   ],
   "source": [
    "df.describe()"
   ]
  },
  {
   "cell_type": "markdown",
   "id": "ca96d37e",
   "metadata": {},
   "source": [
    "# Model selection"
   ]
  },
  {
   "cell_type": "markdown",
   "id": "bd429b61",
   "metadata": {},
   "source": [
    "## Preparing the variables and labels"
   ]
  },
  {
   "cell_type": "code",
   "execution_count": 16,
   "id": "74c96392",
   "metadata": {
    "ExecuteTime": {
     "end_time": "2024-05-16T17:50:19.031907Z",
     "start_time": "2024-05-16T17:50:19.017150Z"
    }
   },
   "outputs": [],
   "source": [
    "data_only_numeric_cols = df.select_dtypes(include=['float64','int64'])\n",
    "X = data_only_numeric_cols.drop(['rank'] , axis=1)\n",
    "y = df['rank']"
   ]
  },
  {
   "cell_type": "code",
   "execution_count": 17,
   "id": "5ff47941",
   "metadata": {
    "ExecuteTime": {
     "end_time": "2024-05-16T17:50:20.495925Z",
     "start_time": "2024-05-16T17:50:20.479985Z"
    }
   },
   "outputs": [],
   "source": [
    "X_train, X_test, y_train, y_test = train_test_split(X, y, test_size=0.2, random_state=42)"
   ]
  },
  {
   "cell_type": "markdown",
   "id": "f2c1891b",
   "metadata": {},
   "source": [
    "## Data scaling"
   ]
  },
  {
   "cell_type": "code",
   "execution_count": 18,
   "id": "d1ce147c",
   "metadata": {
    "ExecuteTime": {
     "end_time": "2024-05-16T17:50:22.401308Z",
     "start_time": "2024-05-16T17:50:22.387845Z"
    }
   },
   "outputs": [],
   "source": [
    "scaler = StandardScaler()\n",
    "X_train_scaled = scaler.fit_transform(X_train)\n",
    "X_test_scaled = scaler.transform(X_test)"
   ]
  },
  {
   "cell_type": "markdown",
   "id": "3294f543",
   "metadata": {},
   "source": [
    "## Hyperparameter tuning"
   ]
  },
  {
   "cell_type": "code",
   "execution_count": 19,
   "id": "6c2e7075",
   "metadata": {
    "ExecuteTime": {
     "end_time": "2024-05-16T17:51:27.590386Z",
     "start_time": "2024-05-16T17:51:27.560013Z"
    }
   },
   "outputs": [],
   "source": [
    "# Linear Regression\n",
    "lr_model = LinearRegression()\n",
    "lr_param_grid = {}  # No hyperparameters to tune for Linear Regression\n",
    "\n",
    "# Random Forest Regressor\n",
    "rf_model = RandomForestRegressor(random_state=42)\n",
    "rf_param_grid = {\n",
    "    'n_estimators': [100, 200, 300],\n",
    "    'max_depth': [None, 10, 20],\n",
    "    'min_samples_split': [2, 5, 10],\n",
    "    'min_samples_leaf': [1, 2, 4]\n",
    "}\n",
    "\n",
    "# Support Vector Machine Regressor\n",
    "svm_model = SVR()\n",
    "svm_param_grid = {\n",
    "    'C': [0.1, 1.0, 10.0],\n",
    "    'epsilon': [0.1, 0.01, 0.001],\n",
    "    'kernel': ['linear', 'rbf']\n",
    "}"
   ]
  },
  {
   "cell_type": "markdown",
   "id": "d4fa468d",
   "metadata": {},
   "source": [
    "### GridSearchCV for each model"
   ]
  },
  {
   "cell_type": "code",
   "execution_count": null,
   "id": "eeb440bb",
   "metadata": {},
   "outputs": [],
   "source": [
    "# To reload the trained GridSearchCV object\n",
    "with open('lr_grid_search.pkl', 'rb') as file:\n",
    "    lr_grid_search = pickle.load(file)"
   ]
  },
  {
   "cell_type": "code",
   "execution_count": 20,
   "id": "2658f826",
   "metadata": {
    "ExecuteTime": {
     "end_time": "2024-05-16T17:51:40.831014Z",
     "start_time": "2024-05-16T17:51:40.763022Z"
    }
   },
   "outputs": [
    {
     "data": {
      "text/plain": [
       "GridSearchCV(cv=5, estimator=LinearRegression(), param_grid={},\n",
       "             scoring='neg_mean_squared_error')"
      ]
     },
     "execution_count": 20,
     "metadata": {},
     "output_type": "execute_result"
    }
   ],
   "source": [
    "# lr_grid_search = GridSearchCV(lr_model, lr_param_grid, cv=5, scoring='neg_mean_squared_error')\n",
    "# lr_grid_search.fit(X_train_scaled, y_train)\n",
    "\n",
    "# # Save the trained GridSearchCV object to a file (after fitting the GridSearch)\n",
    "# with open('Models/lr_grid_search.pkl', 'wb') as file:\n",
    "#     pickle.dump(rf_grid_search, file)"
   ]
  },
  {
   "cell_type": "code",
   "execution_count": 52,
   "id": "3d461104",
   "metadata": {
    "ExecuteTime": {
     "end_time": "2024-05-16T19:57:13.434051Z",
     "start_time": "2024-05-16T19:57:13.404117Z"
    }
   },
   "outputs": [
    {
     "data": {
      "text/plain": [
       "{}"
      ]
     },
     "execution_count": 52,
     "metadata": {},
     "output_type": "execute_result"
    }
   ],
   "source": [
    "# No parameteres for Linear Regression\n",
    "lr_grid_search.best_params_"
   ]
  },
  {
   "cell_type": "code",
   "execution_count": null,
   "id": "6ebca91c",
   "metadata": {},
   "outputs": [],
   "source": [
    "# To reload the trained GridSearchCV object\n",
    "with open('rf_grid_search.pkl', 'rb') as file:\n",
    "    rf_grid_search = pickle.load(file)"
   ]
  },
  {
   "cell_type": "code",
   "execution_count": 21,
   "id": "0299f2bf",
   "metadata": {
    "ExecuteTime": {
     "end_time": "2024-05-16T18:56:49.846641Z",
     "start_time": "2024-05-16T17:51:53.878064Z"
    }
   },
   "outputs": [
    {
     "data": {
      "text/plain": [
       "GridSearchCV(cv=5, estimator=RandomForestRegressor(random_state=42),\n",
       "             param_grid={'max_depth': [None, 10, 20],\n",
       "                         'min_samples_leaf': [1, 2, 4],\n",
       "                         'min_samples_split': [2, 5, 10],\n",
       "                         'n_estimators': [100, 200, 300]},\n",
       "             scoring='neg_mean_squared_error')"
      ]
     },
     "execution_count": 21,
     "metadata": {},
     "output_type": "execute_result"
    }
   ],
   "source": [
    "# rf_grid_search = GridSearchCV(rf_model, rf_param_grid, cv=5, scoring='neg_mean_squared_error')\n",
    "# rf_grid_search.fit(X_train_scaled, y_train)\n",
    "\n",
    "# # Save the trained GridSearchCV object to a file (after fitting the GridSearch)\n",
    "# with open('Models/rf_grid_search.pkl', 'wb') as file:\n",
    "#     pickle.dump(rf_grid_search, file)"
   ]
  },
  {
   "cell_type": "code",
   "execution_count": 51,
   "id": "85a3ee65",
   "metadata": {
    "ExecuteTime": {
     "end_time": "2024-05-16T19:57:07.966895Z",
     "start_time": "2024-05-16T19:57:07.951754Z"
    }
   },
   "outputs": [
    {
     "data": {
      "text/plain": [
       "{'max_depth': 10,\n",
       " 'min_samples_leaf': 4,\n",
       " 'min_samples_split': 2,\n",
       " 'n_estimators': 300}"
      ]
     },
     "execution_count": 51,
     "metadata": {},
     "output_type": "execute_result"
    }
   ],
   "source": [
    "rf_grid_search.best_params_"
   ]
  },
  {
   "cell_type": "code",
   "execution_count": null,
   "id": "109dae5e",
   "metadata": {},
   "outputs": [],
   "source": [
    "# To reload the trained GridSearchCV object\n",
    "with open('svm_grid_search.pkl', 'rb') as file:\n",
    "    svm_grid_search = pickle.load(file)"
   ]
  },
  {
   "cell_type": "code",
   "execution_count": 22,
   "id": "87fb7d1f",
   "metadata": {
    "ExecuteTime": {
     "end_time": "2024-05-16T19:12:33.316224Z",
     "start_time": "2024-05-16T18:56:49.978587Z"
    }
   },
   "outputs": [
    {
     "data": {
      "text/plain": [
       "GridSearchCV(cv=5, estimator=SVR(),\n",
       "             param_grid={'C': [0.1, 1.0, 10.0], 'epsilon': [0.1, 0.01, 0.001],\n",
       "                         'kernel': ['linear', 'rbf']},\n",
       "             scoring='neg_mean_squared_error')"
      ]
     },
     "execution_count": 22,
     "metadata": {},
     "output_type": "execute_result"
    }
   ],
   "source": [
    "# svm_grid_search = GridSearchCV(svm_model, svm_param_grid, cv=5, scoring='neg_mean_squared_error')\n",
    "# svm_grid_search.fit(X_train_scaled, y_train)\n",
    "\n",
    "# # Save the trained GridSearchCV object to a file (after fitting the GridSearch)\n",
    "# with open('Models/svm_grid_search.pkl', 'wb') as file:\n",
    "#     pickle.dump(rf_grid_search, file)"
   ]
  },
  {
   "cell_type": "code",
   "execution_count": 50,
   "id": "c7af0979",
   "metadata": {
    "ExecuteTime": {
     "end_time": "2024-05-16T19:57:00.816455Z",
     "start_time": "2024-05-16T19:57:00.794069Z"
    }
   },
   "outputs": [
    {
     "data": {
      "text/plain": [
       "{'C': 10.0, 'epsilon': 0.1, 'kernel': 'rbf'}"
      ]
     },
     "execution_count": 50,
     "metadata": {},
     "output_type": "execute_result"
    }
   ],
   "source": [
    "svm_grid_search.best_params_"
   ]
  },
  {
   "cell_type": "code",
   "execution_count": 30,
   "id": "17128bb8",
   "metadata": {
    "ExecuteTime": {
     "end_time": "2024-05-16T19:25:42.755132Z",
     "start_time": "2024-05-16T19:25:36.060633Z"
    }
   },
   "outputs": [
    {
     "name": "stdout",
     "output_type": "stream",
     "text": [
      "Linear Regression RMSE: 3158.325; R2: 0.744\n",
      "Random Forest RMSE: 30.847; R2: 1.000\n",
      "SVM RMSE: 3029.970; R2: 0.764\n"
     ]
    }
   ],
   "source": [
    "# Making predictions\n",
    "lr_predictions = lr_grid_search.predict(X_test_scaled)\n",
    "rf_predictions = rf_grid_search.predict(X_test_scaled)\n",
    "svm_predictions = svm_grid_search.predict(X_test_scaled)\n",
    "\n",
    "# Calculating RMSE (Root Mean Squared Error) for evaluation\n",
    "lr_rmse = mean_squared_error(y_test, lr_predictions, squared=False)\n",
    "rf_rmse = mean_squared_error(y_test, rf_predictions, squared=False)\n",
    "svm_rmse = mean_squared_error(y_test, svm_predictions, squared=False)\n",
    "\n",
    "lr_r2 = r2_score(y_test, lr_predictions)\n",
    "rf_r2 = r2_score(y_test, rf_predictions)\n",
    "svm_r2 = r2_score(y_test, svm_predictions)\n",
    "\n",
    "print(f\"Linear Regression RMSE: {lr_rmse:.3f}; R2: {lr_r2:.3f}\")\n",
    "print(f\"Random Forest RMSE: {rf_rmse:.3f}; R2: {rf_r2:.3f}\")\n",
    "print(f\"SVM RMSE: {svm_rmse:.3f}; R2: {svm_r2:.3f}\")"
   ]
  },
  {
   "cell_type": "markdown",
   "id": "841fe901",
   "metadata": {},
   "source": [
    "## Final models"
   ]
  },
  {
   "cell_type": "code",
   "execution_count": 59,
   "id": "f64908ce",
   "metadata": {
    "ExecuteTime": {
     "end_time": "2024-05-16T20:07:09.898079Z",
     "start_time": "2024-05-16T20:07:09.875687Z"
    }
   },
   "outputs": [],
   "source": [
    "model_lr = LinearRegression()"
   ]
  },
  {
   "cell_type": "code",
   "execution_count": 60,
   "id": "ec590ef9",
   "metadata": {
    "ExecuteTime": {
     "end_time": "2024-05-16T20:07:10.447249Z",
     "start_time": "2024-05-16T20:07:10.431896Z"
    }
   },
   "outputs": [],
   "source": [
    "model_rf = RandomForestRegressor(random_state=42,\n",
    "                                 max_depth= 10,\n",
    "                                 min_samples_leaf= 4,\n",
    "                                 min_samples_split= 2,\n",
    "                                 n_estimators= 300)"
   ]
  },
  {
   "cell_type": "code",
   "execution_count": 61,
   "id": "04885a95",
   "metadata": {
    "ExecuteTime": {
     "end_time": "2024-05-16T20:07:10.447249Z",
     "start_time": "2024-05-16T20:07:10.431896Z"
    }
   },
   "outputs": [],
   "source": [
    "model_svm = SVR(C=10.0,\n",
    "                epsilon=0.1,\n",
    "                kernel='rbf')"
   ]
  },
  {
   "cell_type": "code",
   "execution_count": 66,
   "id": "92422141",
   "metadata": {
    "ExecuteTime": {
     "end_time": "2024-05-16T20:10:01.256399Z",
     "start_time": "2024-05-16T20:09:11.642456Z"
    }
   },
   "outputs": [
    {
     "name": "stdout",
     "output_type": "stream",
     "text": [
      "Results for Linear Regression:\n",
      "Mean Squared Error: 9975017.847317003\n",
      "R-squared:  0.7440068265786577 \n",
      "\n",
      "Results for Random Forest:\n",
      "Mean Squared Error: 951.5596434937484\n",
      "R-squared:  0.9999755797155888 \n",
      "\n",
      "Results for SVM:\n",
      "Mean Squared Error: 9180718.081664644\n",
      "R-squared:  0.7643912831049051 \n",
      "\n"
     ]
    }
   ],
   "source": [
    "def model_scores(model_name, model):\n",
    "    model.fit(X_train_scaled, y_train)\n",
    "    y_pred = model.predict(X_test_scaled)\n",
    "    MSE = mean_squared_error(y_test, y_pred)\n",
    "    R2 = r2_score(y_test, y_pred)\n",
    "\n",
    "    return MSE, R2\n",
    "\n",
    "\n",
    "models_dict = {\"Linear Regression\": model_lr,\n",
    "         \"Random Forest\": model_rf,\n",
    "         \"SVM\": model_svm}\n",
    "\n",
    "for model_name, model in models_dict.items():\n",
    "    scores = model_scores(model_name, model)\n",
    "    print(f\"Results for {model_name}:\")\n",
    "    print(f\"Mean Squared Error: {scores[0]:.3f}\")\n",
    "    print(f\"R-squared:  {scores[1]:.3f} \\n\")"
   ]
  },
  {
   "cell_type": "markdown",
   "id": "52d72973",
   "metadata": {},
   "source": [
    "# Commentary"
   ]
  },
  {
   "cell_type": "markdown",
   "id": "0e84bfcf",
   "metadata": {},
   "source": [
    "For given dataset, out of 3 tested models, best works random forest. Mean squared error is 951 which means the model is estimating the **rank** wrong by approximately 31 places.\n",
    "\n",
    "Linear regression, does not work well with this dataset, as there is no linear trend. Support Vector Machines also does not make a good fit into solving this kind of problem.\n",
    "\n",
    "In my opinion it is a good result, because there are lots of factors that are hard to model, but have strong influence on the board game's rating performance, such as marketing strategy and viral trends."
   ]
  }
 ],
 "metadata": {
  "hide_input": false,
  "kernelspec": {
   "display_name": "Python 3",
   "language": "python",
   "name": "python3"
  },
  "language_info": {
   "codemirror_mode": {
    "name": "ipython",
    "version": 3
   },
   "file_extension": ".py",
   "mimetype": "text/x-python",
   "name": "python",
   "nbconvert_exporter": "python",
   "pygments_lexer": "ipython3",
   "version": "3.7.16"
  },
  "toc": {
   "base_numbering": 1,
   "nav_menu": {},
   "number_sections": true,
   "sideBar": true,
   "skip_h1_title": false,
   "title_cell": "Table of Contents",
   "title_sidebar": "Contents",
   "toc_cell": false,
   "toc_position": {
    "height": "calc(100% - 180px)",
    "left": "10px",
    "top": "150px",
    "width": "165px"
   },
   "toc_section_display": true,
   "toc_window_display": true
  },
  "varInspector": {
   "cols": {
    "lenName": 16,
    "lenType": 16,
    "lenVar": 40
   },
   "kernels_config": {
    "python": {
     "delete_cmd_postfix": "",
     "delete_cmd_prefix": "del ",
     "library": "var_list.py",
     "varRefreshCmd": "print(var_dic_list())"
    },
    "r": {
     "delete_cmd_postfix": ") ",
     "delete_cmd_prefix": "rm(",
     "library": "var_list.r",
     "varRefreshCmd": "cat(var_dic_list()) "
    }
   },
   "types_to_exclude": [
    "module",
    "function",
    "builtin_function_or_method",
    "instance",
    "_Feature"
   ],
   "window_display": false
  }
 },
 "nbformat": 4,
 "nbformat_minor": 5
}
